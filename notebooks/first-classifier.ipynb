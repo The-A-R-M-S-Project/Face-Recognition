{
 "cells": [
  {
   "cell_type": "markdown",
   "metadata": {},
   "source": [
    "## Reading data"
   ]
  },
  {
   "cell_type": "code",
   "execution_count": 1,
   "metadata": {
    "pycharm": {
     "is_executing": false
    },
    "scrolled": true
   },
   "outputs": [],
   "source": [
    "\n",
    "import pandas as pd\n",
    "\n",
    "# read dataset\n",
    "df = pd.read_csv('../data/train-face-encodings.csv')\n",
    "# tdf = pd.read_csv('../data/test-face-encodings.csv')"
   ]
  },
  {
   "cell_type": "markdown",
   "metadata": {},
   "source": [
    "## Exploring Data"
   ]
  },
  {
   "cell_type": "markdown",
   "metadata": {},
   "source": [
    "### Viewing the head"
   ]
  },
  {
   "cell_type": "code",
   "execution_count": 2,
   "metadata": {},
   "outputs": [
    {
     "data": {
      "text/html": [
       "<div>\n",
       "<style scoped>\n",
       "    .dataframe tbody tr th:only-of-type {\n",
       "        vertical-align: middle;\n",
       "    }\n",
       "\n",
       "    .dataframe tbody tr th {\n",
       "        vertical-align: top;\n",
       "    }\n",
       "\n",
       "    .dataframe thead th {\n",
       "        text-align: right;\n",
       "    }\n",
       "</style>\n",
       "<table border=\"1\" class=\"dataframe\">\n",
       "  <thead>\n",
       "    <tr style=\"text-align: right;\">\n",
       "      <th></th>\n",
       "      <th>Case#</th>\n",
       "      <th>name</th>\n",
       "      <th>fe1</th>\n",
       "      <th>fe2</th>\n",
       "      <th>fe3</th>\n",
       "      <th>fe4</th>\n",
       "      <th>fe5</th>\n",
       "      <th>fe6</th>\n",
       "      <th>fe7</th>\n",
       "      <th>fe8</th>\n",
       "      <th>...</th>\n",
       "      <th>fe119</th>\n",
       "      <th>fe120</th>\n",
       "      <th>fe121</th>\n",
       "      <th>fe122</th>\n",
       "      <th>fe123</th>\n",
       "      <th>fe124</th>\n",
       "      <th>fe125</th>\n",
       "      <th>fe126</th>\n",
       "      <th>fe127</th>\n",
       "      <th>fe128</th>\n",
       "    </tr>\n",
       "  </thead>\n",
       "  <tbody>\n",
       "    <tr>\n",
       "      <th>0</th>\n",
       "      <td>1</td>\n",
       "      <td>Amandla Sternburg</td>\n",
       "      <td>-0.062336</td>\n",
       "      <td>0.052564</td>\n",
       "      <td>0.100087</td>\n",
       "      <td>-0.119492</td>\n",
       "      <td>-0.139727</td>\n",
       "      <td>-0.101675</td>\n",
       "      <td>-0.077950</td>\n",
       "      <td>-0.115687</td>\n",
       "      <td>...</td>\n",
       "      <td>0.077741</td>\n",
       "      <td>0.087120</td>\n",
       "      <td>0.007947</td>\n",
       "      <td>-0.013164</td>\n",
       "      <td>-0.114904</td>\n",
       "      <td>-0.004787</td>\n",
       "      <td>0.123941</td>\n",
       "      <td>-0.133650</td>\n",
       "      <td>0.034758</td>\n",
       "      <td>0.075893</td>\n",
       "    </tr>\n",
       "    <tr>\n",
       "      <th>1</th>\n",
       "      <td>2</td>\n",
       "      <td>Amandla Sternburg</td>\n",
       "      <td>-0.062336</td>\n",
       "      <td>0.052564</td>\n",
       "      <td>0.100087</td>\n",
       "      <td>-0.119492</td>\n",
       "      <td>-0.139727</td>\n",
       "      <td>-0.101675</td>\n",
       "      <td>-0.077950</td>\n",
       "      <td>-0.115687</td>\n",
       "      <td>...</td>\n",
       "      <td>0.077741</td>\n",
       "      <td>0.087120</td>\n",
       "      <td>0.007947</td>\n",
       "      <td>-0.013164</td>\n",
       "      <td>-0.114904</td>\n",
       "      <td>-0.004787</td>\n",
       "      <td>0.123941</td>\n",
       "      <td>-0.133650</td>\n",
       "      <td>0.034758</td>\n",
       "      <td>0.075893</td>\n",
       "    </tr>\n",
       "    <tr>\n",
       "      <th>2</th>\n",
       "      <td>3</td>\n",
       "      <td>Amandla Sternburg</td>\n",
       "      <td>-0.063223</td>\n",
       "      <td>-0.038476</td>\n",
       "      <td>0.101766</td>\n",
       "      <td>-0.079118</td>\n",
       "      <td>-0.164185</td>\n",
       "      <td>-0.092289</td>\n",
       "      <td>-0.065582</td>\n",
       "      <td>-0.067860</td>\n",
       "      <td>...</td>\n",
       "      <td>0.094934</td>\n",
       "      <td>0.092719</td>\n",
       "      <td>-0.031205</td>\n",
       "      <td>-0.032641</td>\n",
       "      <td>-0.135209</td>\n",
       "      <td>0.025838</td>\n",
       "      <td>0.150927</td>\n",
       "      <td>-0.089295</td>\n",
       "      <td>0.035543</td>\n",
       "      <td>0.064832</td>\n",
       "    </tr>\n",
       "    <tr>\n",
       "      <th>3</th>\n",
       "      <td>4</td>\n",
       "      <td>Amandla Sternburg</td>\n",
       "      <td>-0.098610</td>\n",
       "      <td>0.056209</td>\n",
       "      <td>0.136003</td>\n",
       "      <td>-0.118633</td>\n",
       "      <td>-0.172050</td>\n",
       "      <td>-0.055944</td>\n",
       "      <td>-0.084016</td>\n",
       "      <td>-0.072944</td>\n",
       "      <td>...</td>\n",
       "      <td>0.143010</td>\n",
       "      <td>0.093671</td>\n",
       "      <td>-0.071815</td>\n",
       "      <td>-0.059864</td>\n",
       "      <td>-0.094761</td>\n",
       "      <td>-0.037739</td>\n",
       "      <td>0.121683</td>\n",
       "      <td>-0.100972</td>\n",
       "      <td>0.065145</td>\n",
       "      <td>0.053635</td>\n",
       "    </tr>\n",
       "    <tr>\n",
       "      <th>4</th>\n",
       "      <td>5</td>\n",
       "      <td>Amandla Sternburg</td>\n",
       "      <td>-0.054156</td>\n",
       "      <td>0.044665</td>\n",
       "      <td>0.134833</td>\n",
       "      <td>-0.108199</td>\n",
       "      <td>-0.160031</td>\n",
       "      <td>-0.043255</td>\n",
       "      <td>-0.099803</td>\n",
       "      <td>-0.050705</td>\n",
       "      <td>...</td>\n",
       "      <td>0.128864</td>\n",
       "      <td>0.124600</td>\n",
       "      <td>-0.008052</td>\n",
       "      <td>-0.025404</td>\n",
       "      <td>-0.129545</td>\n",
       "      <td>-0.033177</td>\n",
       "      <td>0.140403</td>\n",
       "      <td>-0.112612</td>\n",
       "      <td>0.062427</td>\n",
       "      <td>0.071699</td>\n",
       "    </tr>\n",
       "  </tbody>\n",
       "</table>\n",
       "<p>5 rows × 130 columns</p>\n",
       "</div>"
      ],
      "text/plain": [
       "   Case#               name       fe1       fe2       fe3       fe4       fe5  \\\n",
       "0      1  Amandla Sternburg -0.062336  0.052564  0.100087 -0.119492 -0.139727   \n",
       "1      2  Amandla Sternburg -0.062336  0.052564  0.100087 -0.119492 -0.139727   \n",
       "2      3  Amandla Sternburg -0.063223 -0.038476  0.101766 -0.079118 -0.164185   \n",
       "3      4  Amandla Sternburg -0.098610  0.056209  0.136003 -0.118633 -0.172050   \n",
       "4      5  Amandla Sternburg -0.054156  0.044665  0.134833 -0.108199 -0.160031   \n",
       "\n",
       "        fe6       fe7       fe8  ...     fe119     fe120     fe121     fe122  \\\n",
       "0 -0.101675 -0.077950 -0.115687  ...  0.077741  0.087120  0.007947 -0.013164   \n",
       "1 -0.101675 -0.077950 -0.115687  ...  0.077741  0.087120  0.007947 -0.013164   \n",
       "2 -0.092289 -0.065582 -0.067860  ...  0.094934  0.092719 -0.031205 -0.032641   \n",
       "3 -0.055944 -0.084016 -0.072944  ...  0.143010  0.093671 -0.071815 -0.059864   \n",
       "4 -0.043255 -0.099803 -0.050705  ...  0.128864  0.124600 -0.008052 -0.025404   \n",
       "\n",
       "      fe123     fe124     fe125     fe126     fe127     fe128  \n",
       "0 -0.114904 -0.004787  0.123941 -0.133650  0.034758  0.075893  \n",
       "1 -0.114904 -0.004787  0.123941 -0.133650  0.034758  0.075893  \n",
       "2 -0.135209  0.025838  0.150927 -0.089295  0.035543  0.064832  \n",
       "3 -0.094761 -0.037739  0.121683 -0.100972  0.065145  0.053635  \n",
       "4 -0.129545 -0.033177  0.140403 -0.112612  0.062427  0.071699  \n",
       "\n",
       "[5 rows x 130 columns]"
      ]
     },
     "execution_count": 2,
     "metadata": {},
     "output_type": "execute_result"
    }
   ],
   "source": [
    "df.head()"
   ]
  },
  {
   "cell_type": "markdown",
   "metadata": {},
   "source": [
    "### Obtaining data shape"
   ]
  },
  {
   "cell_type": "code",
   "execution_count": 3,
   "metadata": {},
   "outputs": [
    {
     "name": "stdout",
     "output_type": "stream",
     "text": [
      "(123, 130)\n"
     ]
    }
   ],
   "source": [
    "print(df.shape)"
   ]
  },
  {
   "cell_type": "markdown",
   "metadata": {},
   "source": [
    "### Determining number of classes"
   ]
  },
  {
   "cell_type": "code",
   "execution_count": 4,
   "metadata": {},
   "outputs": [
    {
     "name": "stdout",
     "output_type": "stream",
     "text": [
      "21\n"
     ]
    }
   ],
   "source": [
    "no_classes = len(df.name.unique())\n",
    "print(no_classes)"
   ]
  },
  {
   "cell_type": "markdown",
   "metadata": {},
   "source": [
    "### Determining statistical description"
   ]
  },
  {
   "cell_type": "code",
   "execution_count": null,
   "metadata": {
    "pycharm": {
     "is_executing": false
    }
   },
   "outputs": [],
   "source": [
    "df.describe()"
   ]
  },
  {
   "cell_type": "markdown",
   "metadata": {},
   "source": [
    "## Spliting dataset into train and test"
   ]
  },
  {
   "cell_type": "code",
   "execution_count": null,
   "metadata": {
    "pycharm": {
     "is_executing": false
    }
   },
   "outputs": [],
   "source": [
    "from sklearn.model_selection import train_test_split\n",
    "#split input and output colums\n",
    "X = df.drop(axis=0, columns=['name', 'Case#'])\n",
    "y = df.name\n",
    "X_train, X_test, y_train, y_test = train_test_split(X, y, test_size=0.25, random_state=0)\n",
    "# X_test = tdf.drop(axis=0, columns=['name', 'Case#'])\n",
    "# y_test = tdf.name\n",
    "print(\"X_train: \", X_train.shape)\n",
    "print(\"y_train: \", y_train.shape)\n",
    "print(\"X_test: \", X_test.shape)\n",
    "print(\"y_test: \", y_test.shape)\n"
   ]
  },
  {
   "cell_type": "markdown",
   "metadata": {},
   "source": [
    "## Training model"
   ]
  },
  {
   "cell_type": "code",
   "execution_count": null,
   "metadata": {
    "pycharm": {
     "is_executing": false
    }
   },
   "outputs": [],
   "source": [
    "# import matplotlib.pyplot as plt\n",
    "from sklearn.multiclass import OneVsRestClassifier\n",
    "from sklearn.svm import SVC\n",
    "\n",
    "clf = OneVsRestClassifier(SVC(probability=True)).fit(X, y)"
   ]
  },
  {
   "cell_type": "markdown",
   "metadata": {},
   "source": [
    "## Saving model externally"
   ]
  },
  {
   "cell_type": "code",
   "execution_count": null,
   "metadata": {},
   "outputs": [],
   "source": [
    "import pickle\n",
    "filepath = \"../models/classifier1.sav\"\n",
    "pickle.dump(clf, open(filepath, 'wb'))"
   ]
  },
  {
   "cell_type": "markdown",
   "metadata": {},
   "source": [
    "## Testing model"
   ]
  },
  {
   "cell_type": "code",
   "execution_count": null,
   "metadata": {},
   "outputs": [],
   "source": [
    "y_pred = clf.predict(X_test)\n",
    "print(y_pred)"
   ]
  },
  {
   "cell_type": "markdown",
   "metadata": {},
   "source": [
    "## Determining accuracy"
   ]
  },
  {
   "cell_type": "code",
   "execution_count": null,
   "metadata": {
    "pycharm": {
     "is_executing": false
    }
   },
   "outputs": [],
   "source": [
    "from sklearn.metrics import accuracy_score\n",
    "\n",
    "accuracy = accuracy_score(y_test, y_pred)\n",
    "print(accuracy)"
   ]
  },
  {
   "cell_type": "code",
   "execution_count": null,
   "metadata": {
    "pycharm": {
     "is_executing": false
    }
   },
   "outputs": [],
   "source": [
    "import numpy as np\n",
    "\n",
    "print(np.mean(y_pred == y_test))\n",
    "print(y_pred, [i for i in y_test])"
   ]
  },
  {
   "cell_type": "code",
   "execution_count": null,
   "metadata": {
    "pycharm": {
     "is_executing": false
    }
   },
   "outputs": [],
   "source": [
    "print(y_test)"
   ]
  },
  {
   "cell_type": "code",
   "execution_count": null,
   "metadata": {
    "pycharm": {
     "is_executing": false
    }
   },
   "outputs": [],
   "source": [
    "# print(df.name)"
   ]
  },
  {
   "cell_type": "code",
   "execution_count": null,
   "metadata": {},
   "outputs": [],
   "source": [
    "# print(df.groupby(\"name\").mean())"
   ]
  },
  {
   "cell_type": "code",
   "execution_count": null,
   "metadata": {},
   "outputs": [],
   "source": []
  }
 ],
 "metadata": {
  "kernelspec": {
   "display_name": "Python 3",
   "language": "python",
   "name": "python3"
  },
  "language_info": {
   "codemirror_mode": {
    "name": "ipython",
    "version": 3
   },
   "file_extension": ".py",
   "mimetype": "text/x-python",
   "name": "python",
   "nbconvert_exporter": "python",
   "pygments_lexer": "ipython3",
   "version": "3.6.9"
  },
  "pycharm": {
   "stem_cell": {
    "cell_type": "raw",
    "metadata": {
     "collapsed": false
    },
    "source": []
   }
  }
 },
 "nbformat": 4,
 "nbformat_minor": 4
}
