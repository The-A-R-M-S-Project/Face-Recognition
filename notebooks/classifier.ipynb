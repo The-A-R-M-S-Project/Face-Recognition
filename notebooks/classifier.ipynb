{
 "cells": [
  {
   "cell_type": "code",
   "execution_count": 8,
   "metadata": {
    "pycharm": {
     "is_executing": false
    },
    "scrolled": true
   },
   "outputs": [
    {
     "data": {
      "text/plain": "   Case#               name       fe1       fe2       fe3       fe4       fe5  \\\n0      1  Amandla Sternburg -0.062336  0.052564  0.100087 -0.119492 -0.139727   \n1      2  Amandla Sternburg -0.062336  0.052564  0.100087 -0.119492 -0.139727   \n2      3  Amandla Sternburg -0.063223 -0.038476  0.101766 -0.079118 -0.164185   \n3      4  Amandla Sternburg -0.098610  0.056209  0.136003 -0.118633 -0.172050   \n4      5  Amandla Sternburg -0.054156  0.044665  0.134833 -0.108199 -0.160031   \n\n        fe6       fe7       fe8  ...     fe119     fe120     fe121     fe122  \\\n0 -0.101675 -0.077950 -0.115687  ...  0.077741  0.087120  0.007947 -0.013164   \n1 -0.101675 -0.077950 -0.115687  ...  0.077741  0.087120  0.007947 -0.013164   \n2 -0.092289 -0.065582 -0.067860  ...  0.094934  0.092719 -0.031205 -0.032641   \n3 -0.055944 -0.084016 -0.072944  ...  0.143010  0.093671 -0.071815 -0.059864   \n4 -0.043255 -0.099803 -0.050705  ...  0.128864  0.124600 -0.008052 -0.025404   \n\n      fe123     fe124     fe125     fe126     fe127     fe128  \n0 -0.114904 -0.004787  0.123941 -0.133650  0.034758  0.075893  \n1 -0.114904 -0.004787  0.123941 -0.133650  0.034758  0.075893  \n2 -0.135209  0.025838  0.150927 -0.089295  0.035543  0.064832  \n3 -0.094761 -0.037739  0.121683 -0.100972  0.065145  0.053635  \n4 -0.129545 -0.033177  0.140403 -0.112612  0.062427  0.071699  \n\n[5 rows x 130 columns]",
      "text/html": "<div>\n<style scoped>\n    .dataframe tbody tr th:only-of-type {\n        vertical-align: middle;\n    }\n\n    .dataframe tbody tr th {\n        vertical-align: top;\n    }\n\n    .dataframe thead th {\n        text-align: right;\n    }\n</style>\n<table border=\"1\" class=\"dataframe\">\n  <thead>\n    <tr style=\"text-align: right;\">\n      <th></th>\n      <th>Case#</th>\n      <th>name</th>\n      <th>fe1</th>\n      <th>fe2</th>\n      <th>fe3</th>\n      <th>fe4</th>\n      <th>fe5</th>\n      <th>fe6</th>\n      <th>fe7</th>\n      <th>fe8</th>\n      <th>...</th>\n      <th>fe119</th>\n      <th>fe120</th>\n      <th>fe121</th>\n      <th>fe122</th>\n      <th>fe123</th>\n      <th>fe124</th>\n      <th>fe125</th>\n      <th>fe126</th>\n      <th>fe127</th>\n      <th>fe128</th>\n    </tr>\n  </thead>\n  <tbody>\n    <tr>\n      <th>0</th>\n      <td>1</td>\n      <td>Amandla Sternburg</td>\n      <td>-0.062336</td>\n      <td>0.052564</td>\n      <td>0.100087</td>\n      <td>-0.119492</td>\n      <td>-0.139727</td>\n      <td>-0.101675</td>\n      <td>-0.077950</td>\n      <td>-0.115687</td>\n      <td>...</td>\n      <td>0.077741</td>\n      <td>0.087120</td>\n      <td>0.007947</td>\n      <td>-0.013164</td>\n      <td>-0.114904</td>\n      <td>-0.004787</td>\n      <td>0.123941</td>\n      <td>-0.133650</td>\n      <td>0.034758</td>\n      <td>0.075893</td>\n    </tr>\n    <tr>\n      <th>1</th>\n      <td>2</td>\n      <td>Amandla Sternburg</td>\n      <td>-0.062336</td>\n      <td>0.052564</td>\n      <td>0.100087</td>\n      <td>-0.119492</td>\n      <td>-0.139727</td>\n      <td>-0.101675</td>\n      <td>-0.077950</td>\n      <td>-0.115687</td>\n      <td>...</td>\n      <td>0.077741</td>\n      <td>0.087120</td>\n      <td>0.007947</td>\n      <td>-0.013164</td>\n      <td>-0.114904</td>\n      <td>-0.004787</td>\n      <td>0.123941</td>\n      <td>-0.133650</td>\n      <td>0.034758</td>\n      <td>0.075893</td>\n    </tr>\n    <tr>\n      <th>2</th>\n      <td>3</td>\n      <td>Amandla Sternburg</td>\n      <td>-0.063223</td>\n      <td>-0.038476</td>\n      <td>0.101766</td>\n      <td>-0.079118</td>\n      <td>-0.164185</td>\n      <td>-0.092289</td>\n      <td>-0.065582</td>\n      <td>-0.067860</td>\n      <td>...</td>\n      <td>0.094934</td>\n      <td>0.092719</td>\n      <td>-0.031205</td>\n      <td>-0.032641</td>\n      <td>-0.135209</td>\n      <td>0.025838</td>\n      <td>0.150927</td>\n      <td>-0.089295</td>\n      <td>0.035543</td>\n      <td>0.064832</td>\n    </tr>\n    <tr>\n      <th>3</th>\n      <td>4</td>\n      <td>Amandla Sternburg</td>\n      <td>-0.098610</td>\n      <td>0.056209</td>\n      <td>0.136003</td>\n      <td>-0.118633</td>\n      <td>-0.172050</td>\n      <td>-0.055944</td>\n      <td>-0.084016</td>\n      <td>-0.072944</td>\n      <td>...</td>\n      <td>0.143010</td>\n      <td>0.093671</td>\n      <td>-0.071815</td>\n      <td>-0.059864</td>\n      <td>-0.094761</td>\n      <td>-0.037739</td>\n      <td>0.121683</td>\n      <td>-0.100972</td>\n      <td>0.065145</td>\n      <td>0.053635</td>\n    </tr>\n    <tr>\n      <th>4</th>\n      <td>5</td>\n      <td>Amandla Sternburg</td>\n      <td>-0.054156</td>\n      <td>0.044665</td>\n      <td>0.134833</td>\n      <td>-0.108199</td>\n      <td>-0.160031</td>\n      <td>-0.043255</td>\n      <td>-0.099803</td>\n      <td>-0.050705</td>\n      <td>...</td>\n      <td>0.128864</td>\n      <td>0.124600</td>\n      <td>-0.008052</td>\n      <td>-0.025404</td>\n      <td>-0.129545</td>\n      <td>-0.033177</td>\n      <td>0.140403</td>\n      <td>-0.112612</td>\n      <td>0.062427</td>\n      <td>0.071699</td>\n    </tr>\n  </tbody>\n</table>\n<p>5 rows × 130 columns</p>\n</div>"
     },
     "metadata": {},
     "output_type": "execute_result",
     "execution_count": 8
    }
   ],
   "source": [
    "\n",
    "import pandas as pd\n",
    "\n",
    "# read dataset\n",
    "df = pd.read_csv('../data/train-face-encodings.csv')\n",
    "tdf = pd.read_csv('../data/test-face-encodings.csv')\n",
    "df.head()"
   ]
  },
  {
   "cell_type": "code",
   "execution_count": 9,
   "metadata": {
    "pycharm": {
     "is_executing": false
    }
   },
   "outputs": [
    {
     "name": "stdout",
     "text": [
      "(113, 130)\n",
      "21\n"
     ],
     "output_type": "stream"
    },
    {
     "data": {
      "text/plain": "           Case#         fe1         fe2         fe3         fe4         fe5  \\\ncount  113.00000  113.000000  113.000000  113.000000  113.000000  113.000000   \nmean    57.00000   -0.154448    0.092132    0.074808   -0.037469   -0.042528   \nstd     32.76431    0.044941    0.050936    0.039735    0.047945    0.043979   \nmin      1.00000   -0.242679   -0.038476   -0.009747   -0.149475   -0.172050   \n25%     29.00000   -0.185233    0.057226    0.045283   -0.070743   -0.065336   \n50%     57.00000   -0.160135    0.095187    0.071124   -0.042677   -0.039206   \n75%     85.00000   -0.125348    0.127036    0.101766    0.001769   -0.019440   \nmax    113.00000   -0.054156    0.190391    0.178643    0.066089    0.048678   \n\n              fe6         fe7         fe8         fe9  ...       fe119  \\\ncount  113.000000  113.000000  113.000000  113.000000  ...  113.000000   \nmean    -0.078020    0.028496   -0.102337    0.168073  ...    0.023176   \nstd      0.044525    0.044571    0.051713    0.035726  ...    0.041122   \nmin     -0.172290   -0.099803   -0.200209    0.074353  ...   -0.080591   \n25%     -0.109405    0.008833   -0.139013    0.146780  ...   -0.002232   \n50%     -0.079265    0.033414   -0.110302    0.168897  ...    0.020669   \n75%     -0.048613    0.058569   -0.066676    0.194244  ...    0.046039   \nmax      0.059532    0.119882    0.048881    0.261558  ...    0.143010   \n\n            fe120       fe121       fe122       fe123       fe124       fe125  \\\ncount  113.000000  113.000000  113.000000  113.000000  113.000000  113.000000   \nmean     0.090646   -0.040729   -0.058959   -0.128169   -0.022875    0.084285   \nstd      0.040542    0.047604    0.043365    0.041086    0.042428    0.034996   \nmin      0.001783   -0.156417   -0.165180   -0.237033   -0.142511   -0.014813   \n25%      0.060549   -0.075295   -0.086497   -0.152980   -0.049869    0.064792   \n50%      0.086009   -0.045751   -0.057532   -0.126632   -0.017751    0.083955   \n75%      0.123522   -0.005821   -0.025404   -0.098468    0.004577    0.108300   \nmax      0.167401    0.088005    0.049966   -0.036952    0.087532    0.152330   \n\n            fe126       fe127       fe128  \ncount  113.000000  113.000000  113.000000  \nmean    -0.066310    0.025233    0.033920  \nstd      0.042671    0.037141    0.027913  \nmin     -0.200636   -0.061938   -0.056826  \n25%     -0.090589   -0.003740    0.013555  \n50%     -0.062840    0.028747    0.037296  \n75%     -0.036189    0.048504    0.054067  \nmax      0.029230    0.114733    0.081770  \n\n[8 rows x 129 columns]",
      "text/html": "<div>\n<style scoped>\n    .dataframe tbody tr th:only-of-type {\n        vertical-align: middle;\n    }\n\n    .dataframe tbody tr th {\n        vertical-align: top;\n    }\n\n    .dataframe thead th {\n        text-align: right;\n    }\n</style>\n<table border=\"1\" class=\"dataframe\">\n  <thead>\n    <tr style=\"text-align: right;\">\n      <th></th>\n      <th>Case#</th>\n      <th>fe1</th>\n      <th>fe2</th>\n      <th>fe3</th>\n      <th>fe4</th>\n      <th>fe5</th>\n      <th>fe6</th>\n      <th>fe7</th>\n      <th>fe8</th>\n      <th>fe9</th>\n      <th>...</th>\n      <th>fe119</th>\n      <th>fe120</th>\n      <th>fe121</th>\n      <th>fe122</th>\n      <th>fe123</th>\n      <th>fe124</th>\n      <th>fe125</th>\n      <th>fe126</th>\n      <th>fe127</th>\n      <th>fe128</th>\n    </tr>\n  </thead>\n  <tbody>\n    <tr>\n      <th>count</th>\n      <td>113.00000</td>\n      <td>113.000000</td>\n      <td>113.000000</td>\n      <td>113.000000</td>\n      <td>113.000000</td>\n      <td>113.000000</td>\n      <td>113.000000</td>\n      <td>113.000000</td>\n      <td>113.000000</td>\n      <td>113.000000</td>\n      <td>...</td>\n      <td>113.000000</td>\n      <td>113.000000</td>\n      <td>113.000000</td>\n      <td>113.000000</td>\n      <td>113.000000</td>\n      <td>113.000000</td>\n      <td>113.000000</td>\n      <td>113.000000</td>\n      <td>113.000000</td>\n      <td>113.000000</td>\n    </tr>\n    <tr>\n      <th>mean</th>\n      <td>57.00000</td>\n      <td>-0.154448</td>\n      <td>0.092132</td>\n      <td>0.074808</td>\n      <td>-0.037469</td>\n      <td>-0.042528</td>\n      <td>-0.078020</td>\n      <td>0.028496</td>\n      <td>-0.102337</td>\n      <td>0.168073</td>\n      <td>...</td>\n      <td>0.023176</td>\n      <td>0.090646</td>\n      <td>-0.040729</td>\n      <td>-0.058959</td>\n      <td>-0.128169</td>\n      <td>-0.022875</td>\n      <td>0.084285</td>\n      <td>-0.066310</td>\n      <td>0.025233</td>\n      <td>0.033920</td>\n    </tr>\n    <tr>\n      <th>std</th>\n      <td>32.76431</td>\n      <td>0.044941</td>\n      <td>0.050936</td>\n      <td>0.039735</td>\n      <td>0.047945</td>\n      <td>0.043979</td>\n      <td>0.044525</td>\n      <td>0.044571</td>\n      <td>0.051713</td>\n      <td>0.035726</td>\n      <td>...</td>\n      <td>0.041122</td>\n      <td>0.040542</td>\n      <td>0.047604</td>\n      <td>0.043365</td>\n      <td>0.041086</td>\n      <td>0.042428</td>\n      <td>0.034996</td>\n      <td>0.042671</td>\n      <td>0.037141</td>\n      <td>0.027913</td>\n    </tr>\n    <tr>\n      <th>min</th>\n      <td>1.00000</td>\n      <td>-0.242679</td>\n      <td>-0.038476</td>\n      <td>-0.009747</td>\n      <td>-0.149475</td>\n      <td>-0.172050</td>\n      <td>-0.172290</td>\n      <td>-0.099803</td>\n      <td>-0.200209</td>\n      <td>0.074353</td>\n      <td>...</td>\n      <td>-0.080591</td>\n      <td>0.001783</td>\n      <td>-0.156417</td>\n      <td>-0.165180</td>\n      <td>-0.237033</td>\n      <td>-0.142511</td>\n      <td>-0.014813</td>\n      <td>-0.200636</td>\n      <td>-0.061938</td>\n      <td>-0.056826</td>\n    </tr>\n    <tr>\n      <th>25%</th>\n      <td>29.00000</td>\n      <td>-0.185233</td>\n      <td>0.057226</td>\n      <td>0.045283</td>\n      <td>-0.070743</td>\n      <td>-0.065336</td>\n      <td>-0.109405</td>\n      <td>0.008833</td>\n      <td>-0.139013</td>\n      <td>0.146780</td>\n      <td>...</td>\n      <td>-0.002232</td>\n      <td>0.060549</td>\n      <td>-0.075295</td>\n      <td>-0.086497</td>\n      <td>-0.152980</td>\n      <td>-0.049869</td>\n      <td>0.064792</td>\n      <td>-0.090589</td>\n      <td>-0.003740</td>\n      <td>0.013555</td>\n    </tr>\n    <tr>\n      <th>50%</th>\n      <td>57.00000</td>\n      <td>-0.160135</td>\n      <td>0.095187</td>\n      <td>0.071124</td>\n      <td>-0.042677</td>\n      <td>-0.039206</td>\n      <td>-0.079265</td>\n      <td>0.033414</td>\n      <td>-0.110302</td>\n      <td>0.168897</td>\n      <td>...</td>\n      <td>0.020669</td>\n      <td>0.086009</td>\n      <td>-0.045751</td>\n      <td>-0.057532</td>\n      <td>-0.126632</td>\n      <td>-0.017751</td>\n      <td>0.083955</td>\n      <td>-0.062840</td>\n      <td>0.028747</td>\n      <td>0.037296</td>\n    </tr>\n    <tr>\n      <th>75%</th>\n      <td>85.00000</td>\n      <td>-0.125348</td>\n      <td>0.127036</td>\n      <td>0.101766</td>\n      <td>0.001769</td>\n      <td>-0.019440</td>\n      <td>-0.048613</td>\n      <td>0.058569</td>\n      <td>-0.066676</td>\n      <td>0.194244</td>\n      <td>...</td>\n      <td>0.046039</td>\n      <td>0.123522</td>\n      <td>-0.005821</td>\n      <td>-0.025404</td>\n      <td>-0.098468</td>\n      <td>0.004577</td>\n      <td>0.108300</td>\n      <td>-0.036189</td>\n      <td>0.048504</td>\n      <td>0.054067</td>\n    </tr>\n    <tr>\n      <th>max</th>\n      <td>113.00000</td>\n      <td>-0.054156</td>\n      <td>0.190391</td>\n      <td>0.178643</td>\n      <td>0.066089</td>\n      <td>0.048678</td>\n      <td>0.059532</td>\n      <td>0.119882</td>\n      <td>0.048881</td>\n      <td>0.261558</td>\n      <td>...</td>\n      <td>0.143010</td>\n      <td>0.167401</td>\n      <td>0.088005</td>\n      <td>0.049966</td>\n      <td>-0.036952</td>\n      <td>0.087532</td>\n      <td>0.152330</td>\n      <td>0.029230</td>\n      <td>0.114733</td>\n      <td>0.081770</td>\n    </tr>\n  </tbody>\n</table>\n<p>8 rows × 129 columns</p>\n</div>"
     },
     "metadata": {},
     "output_type": "execute_result",
     "execution_count": 9
    }
   ],
   "source": [
    "print(df.shape)\n",
    "\n",
    "no_classes = len(df.name.unique())\n",
    "print(no_classes)\n",
    "\n",
    "df.describe()"
   ]
  },
  {
   "cell_type": "code",
   "execution_count": 10,
   "metadata": {
    "pycharm": {
     "is_executing": false
    }
   },
   "outputs": [
    {
     "name": "stdout",
     "text": [
      "(113, 128)\n",
      "(113,)\n"
     ],
     "output_type": "stream"
    }
   ],
   "source": [
    "#split input and output data\n",
    "X = df.drop(axis=0, columns=['name', 'Case#'])\n",
    "y = df.name\n",
    "X_test = tdf.drop(axis=0, columns=['name', 'Case#'])\n",
    "y_test = tdf.name\n",
    "print(X.shape)\n",
    "print(y.shape)\n"
   ]
  },
  {
   "cell_type": "code",
   "execution_count": 15,
   "metadata": {
    "pycharm": {
     "is_executing": false
    }
   },
   "outputs": [],
   "source": [
    "import matplotlib.pyplot as plt\n",
    "import numpy as np\n",
    "from sklearn.multiclass import OneVsRestClassifier\n",
    "from sklearn.svm import SVC\n",
    "from sklearn.metrics import accuracy_score\n",
    "import pickle\n",
    "clf = OneVsRestClassifier(SVC()).fit(X, y)\n",
    "y_pred = clf.predict(X_test)\n",
    "filepath = \"../models/classifier.sav\"\n",
    "pickle.dump(y_pred, open(filepath, 'wb'))"
   ]
  },
  {
   "cell_type": "code",
   "execution_count": 12,
   "metadata": {
    "pycharm": {
     "is_executing": false
    }
   },
   "outputs": [
    {
     "name": "stdout",
     "text": [
      "['Amandla Sternburg' 'Denzel Washington' 'Jason Derulo'\n",
      " 'Juliana Kanyomozi' 'Kelly Roland' 'Kevin Hart' 'Lupita Nyongo'\n",
      " 'Taylor Russell' 'Usher Raymond' 'Will Smith']\n",
      "1.0\n"
     ],
     "output_type": "stream"
    }
   ],
   "source": [
    "print(y_pred)\n",
    "accuracy = accuracy_score(y_test, y_pred)\n",
    "print(accuracy)"
   ]
  },
  {
   "cell_type": "code",
   "execution_count": 13,
   "metadata": {
    "pycharm": {
     "is_executing": false
    }
   },
   "outputs": [
    {
     "name": "stdout",
     "text": [
      "1.0\n",
      "['Amandla Sternburg' 'Denzel Washington' 'Jason Derulo'\n",
      " 'Juliana Kanyomozi' 'Kelly Roland' 'Kevin Hart' 'Lupita Nyongo'\n",
      " 'Taylor Russell' 'Usher Raymond' 'Will Smith'] 0    Amandla Sternburg\n",
      "1    Denzel Washington\n",
      "2         Jason Derulo\n",
      "3    Juliana Kanyomozi\n",
      "4         Kelly Roland\n",
      "5           Kevin Hart\n",
      "6        Lupita Nyongo\n",
      "7       Taylor Russell\n",
      "8        Usher Raymond\n",
      "9           Will Smith\n",
      "Name: name, dtype: object\n"
     ],
     "output_type": "stream"
    }
   ],
   "source": [
    "print(np.mean(y_pred == y_test))\n",
    "print(y_pred, y_test)"
   ]
  },
  {
   "cell_type": "code",
   "execution_count": 14,
   "metadata": {
    "pycharm": {
     "is_executing": false
    }
   },
   "outputs": [
    {
     "name": "stdout",
     "text": [
      "0    Amandla Sternburg\n",
      "1    Denzel Washington\n",
      "2         Jason Derulo\n",
      "3    Juliana Kanyomozi\n",
      "4         Kelly Roland\n",
      "5           Kevin Hart\n",
      "6        Lupita Nyongo\n",
      "7       Taylor Russell\n",
      "8        Usher Raymond\n",
      "9           Will Smith\n",
      "Name: name, dtype: object\n"
     ],
     "output_type": "stream"
    }
   ],
   "source": [
    "print(y_test)"
   ]
  },
  {
   "cell_type": "code",
   "execution_count": 14,
   "metadata": {
    "pycharm": {
     "is_executing": false
    }
   },
   "outputs": [],
   "source": []
  }
 ],
 "metadata": {
  "kernelspec": {
   "display_name": "Python 3",
   "language": "python",
   "name": "python3"
  },
  "language_info": {
   "codemirror_mode": {
    "name": "ipython",
    "version": 3
   },
   "file_extension": ".py",
   "mimetype": "text/x-python",
   "name": "python",
   "nbconvert_exporter": "python",
   "pygments_lexer": "ipython3",
   "version": "3.6.5"
  },
  "pycharm": {
   "stem_cell": {
    "cell_type": "raw",
    "source": [],
    "metadata": {
     "collapsed": false
    }
   }
  }
 },
 "nbformat": 4,
 "nbformat_minor": 4
}