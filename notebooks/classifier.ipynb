{
 "cells": [
  {
   "cell_type": "markdown",
   "metadata": {},
   "source": [
    "## Reading data"
   ]
  },
  {
   "cell_type": "code",
   "execution_count": 1,
   "metadata": {
    "pycharm": {
     "is_executing": false
    },
    "scrolled": true
   },
   "outputs": [],
   "source": [
    "import pandas as pd\n",
    "\n",
    "# read dataset\n",
    "df = pd.read_csv('../data/train-face-encodings.csv')\n",
    "# tdf = pd.read_csv('../data/test-face-encodings.csv')"
   ]
  },
  {
   "cell_type": "markdown",
   "metadata": {},
   "source": [
    "## Exploring Data"
   ]
  },
  {
   "cell_type": "markdown",
   "metadata": {},
   "source": [
    "### Viewing the head"
   ]
  },
  {
   "cell_type": "code",
   "execution_count": 2,
   "metadata": {},
   "outputs": [
    {
     "data": {
      "text/html": [
       "<div>\n",
       "<style scoped>\n",
       "    .dataframe tbody tr th:only-of-type {\n",
       "        vertical-align: middle;\n",
       "    }\n",
       "\n",
       "    .dataframe tbody tr th {\n",
       "        vertical-align: top;\n",
       "    }\n",
       "\n",
       "    .dataframe thead th {\n",
       "        text-align: right;\n",
       "    }\n",
       "</style>\n",
       "<table border=\"1\" class=\"dataframe\">\n",
       "  <thead>\n",
       "    <tr style=\"text-align: right;\">\n",
       "      <th></th>\n",
       "      <th>Case#</th>\n",
       "      <th>name</th>\n",
       "      <th>fe1</th>\n",
       "      <th>fe2</th>\n",
       "      <th>fe3</th>\n",
       "      <th>fe4</th>\n",
       "      <th>fe5</th>\n",
       "      <th>fe6</th>\n",
       "      <th>fe7</th>\n",
       "      <th>fe8</th>\n",
       "      <th>...</th>\n",
       "      <th>fe119</th>\n",
       "      <th>fe120</th>\n",
       "      <th>fe121</th>\n",
       "      <th>fe122</th>\n",
       "      <th>fe123</th>\n",
       "      <th>fe124</th>\n",
       "      <th>fe125</th>\n",
       "      <th>fe126</th>\n",
       "      <th>fe127</th>\n",
       "      <th>fe128</th>\n",
       "    </tr>\n",
       "  </thead>\n",
       "  <tbody>\n",
       "    <tr>\n",
       "      <th>0</th>\n",
       "      <td>1</td>\n",
       "      <td>Amandla Sternburg</td>\n",
       "      <td>-0.062336</td>\n",
       "      <td>0.052564</td>\n",
       "      <td>0.100087</td>\n",
       "      <td>-0.119492</td>\n",
       "      <td>-0.139727</td>\n",
       "      <td>-0.101675</td>\n",
       "      <td>-0.077950</td>\n",
       "      <td>-0.115687</td>\n",
       "      <td>...</td>\n",
       "      <td>0.077741</td>\n",
       "      <td>0.087120</td>\n",
       "      <td>0.007947</td>\n",
       "      <td>-0.013164</td>\n",
       "      <td>-0.114904</td>\n",
       "      <td>-0.004787</td>\n",
       "      <td>0.123941</td>\n",
       "      <td>-0.133650</td>\n",
       "      <td>0.034758</td>\n",
       "      <td>0.075893</td>\n",
       "    </tr>\n",
       "    <tr>\n",
       "      <th>1</th>\n",
       "      <td>2</td>\n",
       "      <td>Amandla Sternburg</td>\n",
       "      <td>-0.062336</td>\n",
       "      <td>0.052564</td>\n",
       "      <td>0.100087</td>\n",
       "      <td>-0.119492</td>\n",
       "      <td>-0.139727</td>\n",
       "      <td>-0.101675</td>\n",
       "      <td>-0.077950</td>\n",
       "      <td>-0.115687</td>\n",
       "      <td>...</td>\n",
       "      <td>0.077741</td>\n",
       "      <td>0.087120</td>\n",
       "      <td>0.007947</td>\n",
       "      <td>-0.013164</td>\n",
       "      <td>-0.114904</td>\n",
       "      <td>-0.004787</td>\n",
       "      <td>0.123941</td>\n",
       "      <td>-0.133650</td>\n",
       "      <td>0.034758</td>\n",
       "      <td>0.075893</td>\n",
       "    </tr>\n",
       "    <tr>\n",
       "      <th>2</th>\n",
       "      <td>3</td>\n",
       "      <td>Amandla Sternburg</td>\n",
       "      <td>-0.063223</td>\n",
       "      <td>-0.038476</td>\n",
       "      <td>0.101766</td>\n",
       "      <td>-0.079118</td>\n",
       "      <td>-0.164185</td>\n",
       "      <td>-0.092289</td>\n",
       "      <td>-0.065582</td>\n",
       "      <td>-0.067860</td>\n",
       "      <td>...</td>\n",
       "      <td>0.094934</td>\n",
       "      <td>0.092719</td>\n",
       "      <td>-0.031205</td>\n",
       "      <td>-0.032641</td>\n",
       "      <td>-0.135209</td>\n",
       "      <td>0.025838</td>\n",
       "      <td>0.150927</td>\n",
       "      <td>-0.089295</td>\n",
       "      <td>0.035543</td>\n",
       "      <td>0.064832</td>\n",
       "    </tr>\n",
       "    <tr>\n",
       "      <th>3</th>\n",
       "      <td>4</td>\n",
       "      <td>Amandla Sternburg</td>\n",
       "      <td>-0.098610</td>\n",
       "      <td>0.056209</td>\n",
       "      <td>0.136003</td>\n",
       "      <td>-0.118633</td>\n",
       "      <td>-0.172050</td>\n",
       "      <td>-0.055944</td>\n",
       "      <td>-0.084016</td>\n",
       "      <td>-0.072944</td>\n",
       "      <td>...</td>\n",
       "      <td>0.143010</td>\n",
       "      <td>0.093671</td>\n",
       "      <td>-0.071815</td>\n",
       "      <td>-0.059864</td>\n",
       "      <td>-0.094761</td>\n",
       "      <td>-0.037739</td>\n",
       "      <td>0.121683</td>\n",
       "      <td>-0.100972</td>\n",
       "      <td>0.065145</td>\n",
       "      <td>0.053635</td>\n",
       "    </tr>\n",
       "    <tr>\n",
       "      <th>4</th>\n",
       "      <td>5</td>\n",
       "      <td>Amandla Sternburg</td>\n",
       "      <td>-0.054156</td>\n",
       "      <td>0.044665</td>\n",
       "      <td>0.134833</td>\n",
       "      <td>-0.108199</td>\n",
       "      <td>-0.160031</td>\n",
       "      <td>-0.043255</td>\n",
       "      <td>-0.099803</td>\n",
       "      <td>-0.050705</td>\n",
       "      <td>...</td>\n",
       "      <td>0.128864</td>\n",
       "      <td>0.124600</td>\n",
       "      <td>-0.008052</td>\n",
       "      <td>-0.025404</td>\n",
       "      <td>-0.129545</td>\n",
       "      <td>-0.033177</td>\n",
       "      <td>0.140403</td>\n",
       "      <td>-0.112612</td>\n",
       "      <td>0.062427</td>\n",
       "      <td>0.071699</td>\n",
       "    </tr>\n",
       "  </tbody>\n",
       "</table>\n",
       "<p>5 rows × 130 columns</p>\n",
       "</div>"
      ],
      "text/plain": [
       "   Case#               name       fe1       fe2       fe3       fe4       fe5  \\\n",
       "0      1  Amandla Sternburg -0.062336  0.052564  0.100087 -0.119492 -0.139727   \n",
       "1      2  Amandla Sternburg -0.062336  0.052564  0.100087 -0.119492 -0.139727   \n",
       "2      3  Amandla Sternburg -0.063223 -0.038476  0.101766 -0.079118 -0.164185   \n",
       "3      4  Amandla Sternburg -0.098610  0.056209  0.136003 -0.118633 -0.172050   \n",
       "4      5  Amandla Sternburg -0.054156  0.044665  0.134833 -0.108199 -0.160031   \n",
       "\n",
       "        fe6       fe7       fe8  ...     fe119     fe120     fe121     fe122  \\\n",
       "0 -0.101675 -0.077950 -0.115687  ...  0.077741  0.087120  0.007947 -0.013164   \n",
       "1 -0.101675 -0.077950 -0.115687  ...  0.077741  0.087120  0.007947 -0.013164   \n",
       "2 -0.092289 -0.065582 -0.067860  ...  0.094934  0.092719 -0.031205 -0.032641   \n",
       "3 -0.055944 -0.084016 -0.072944  ...  0.143010  0.093671 -0.071815 -0.059864   \n",
       "4 -0.043255 -0.099803 -0.050705  ...  0.128864  0.124600 -0.008052 -0.025404   \n",
       "\n",
       "      fe123     fe124     fe125     fe126     fe127     fe128  \n",
       "0 -0.114904 -0.004787  0.123941 -0.133650  0.034758  0.075893  \n",
       "1 -0.114904 -0.004787  0.123941 -0.133650  0.034758  0.075893  \n",
       "2 -0.135209  0.025838  0.150927 -0.089295  0.035543  0.064832  \n",
       "3 -0.094761 -0.037739  0.121683 -0.100972  0.065145  0.053635  \n",
       "4 -0.129545 -0.033177  0.140403 -0.112612  0.062427  0.071699  \n",
       "\n",
       "[5 rows x 130 columns]"
      ]
     },
     "execution_count": 2,
     "metadata": {},
     "output_type": "execute_result"
    }
   ],
   "source": [
    "df.head()"
   ]
  },
  {
   "cell_type": "markdown",
   "metadata": {},
   "source": [
    "### Obtaining data shape"
   ]
  },
  {
   "cell_type": "code",
   "execution_count": 3,
   "metadata": {},
   "outputs": [
    {
     "name": "stdout",
     "output_type": "stream",
     "text": [
      "(123, 130)\n"
     ]
    }
   ],
   "source": [
    "print(df.shape)"
   ]
  },
  {
   "cell_type": "markdown",
   "metadata": {},
   "source": [
    "### Determining number of classes"
   ]
  },
  {
   "cell_type": "code",
   "execution_count": 4,
   "metadata": {},
   "outputs": [
    {
     "name": "stdout",
     "output_type": "stream",
     "text": [
      "21\n"
     ]
    }
   ],
   "source": [
    "no_classes = len(df.name.unique())\n",
    "print(no_classes)"
   ]
  },
  {
   "cell_type": "markdown",
   "metadata": {},
   "source": [
    "### Determining statistical description"
   ]
  },
  {
   "cell_type": "code",
   "execution_count": 5,
   "metadata": {
    "pycharm": {
     "is_executing": false
    }
   },
   "outputs": [
    {
     "data": {
      "text/html": [
       "<div>\n",
       "<style scoped>\n",
       "    .dataframe tbody tr th:only-of-type {\n",
       "        vertical-align: middle;\n",
       "    }\n",
       "\n",
       "    .dataframe tbody tr th {\n",
       "        vertical-align: top;\n",
       "    }\n",
       "\n",
       "    .dataframe thead th {\n",
       "        text-align: right;\n",
       "    }\n",
       "</style>\n",
       "<table border=\"1\" class=\"dataframe\">\n",
       "  <thead>\n",
       "    <tr style=\"text-align: right;\">\n",
       "      <th></th>\n",
       "      <th>Case#</th>\n",
       "      <th>fe1</th>\n",
       "      <th>fe2</th>\n",
       "      <th>fe3</th>\n",
       "      <th>fe4</th>\n",
       "      <th>fe5</th>\n",
       "      <th>fe6</th>\n",
       "      <th>fe7</th>\n",
       "      <th>fe8</th>\n",
       "      <th>fe9</th>\n",
       "      <th>...</th>\n",
       "      <th>fe119</th>\n",
       "      <th>fe120</th>\n",
       "      <th>fe121</th>\n",
       "      <th>fe122</th>\n",
       "      <th>fe123</th>\n",
       "      <th>fe124</th>\n",
       "      <th>fe125</th>\n",
       "      <th>fe126</th>\n",
       "      <th>fe127</th>\n",
       "      <th>fe128</th>\n",
       "    </tr>\n",
       "  </thead>\n",
       "  <tbody>\n",
       "    <tr>\n",
       "      <th>count</th>\n",
       "      <td>123.000000</td>\n",
       "      <td>123.000000</td>\n",
       "      <td>123.000000</td>\n",
       "      <td>123.000000</td>\n",
       "      <td>123.000000</td>\n",
       "      <td>123.000000</td>\n",
       "      <td>123.000000</td>\n",
       "      <td>123.000000</td>\n",
       "      <td>123.000000</td>\n",
       "      <td>123.000000</td>\n",
       "      <td>...</td>\n",
       "      <td>123.000000</td>\n",
       "      <td>123.000000</td>\n",
       "      <td>123.000000</td>\n",
       "      <td>123.000000</td>\n",
       "      <td>123.000000</td>\n",
       "      <td>123.000000</td>\n",
       "      <td>123.000000</td>\n",
       "      <td>123.000000</td>\n",
       "      <td>123.000000</td>\n",
       "      <td>123.000000</td>\n",
       "    </tr>\n",
       "    <tr>\n",
       "      <th>mean</th>\n",
       "      <td>62.081301</td>\n",
       "      <td>-0.153911</td>\n",
       "      <td>0.093016</td>\n",
       "      <td>0.075728</td>\n",
       "      <td>-0.036742</td>\n",
       "      <td>-0.043479</td>\n",
       "      <td>-0.076555</td>\n",
       "      <td>0.028473</td>\n",
       "      <td>-0.101553</td>\n",
       "      <td>0.168380</td>\n",
       "      <td>...</td>\n",
       "      <td>0.025066</td>\n",
       "      <td>0.090602</td>\n",
       "      <td>-0.039843</td>\n",
       "      <td>-0.058998</td>\n",
       "      <td>-0.126953</td>\n",
       "      <td>-0.022616</td>\n",
       "      <td>0.086011</td>\n",
       "      <td>-0.068244</td>\n",
       "      <td>0.025991</td>\n",
       "      <td>0.033780</td>\n",
       "    </tr>\n",
       "    <tr>\n",
       "      <th>std</th>\n",
       "      <td>35.781805</td>\n",
       "      <td>0.044845</td>\n",
       "      <td>0.051656</td>\n",
       "      <td>0.039565</td>\n",
       "      <td>0.048144</td>\n",
       "      <td>0.044359</td>\n",
       "      <td>0.044226</td>\n",
       "      <td>0.044705</td>\n",
       "      <td>0.054191</td>\n",
       "      <td>0.034994</td>\n",
       "      <td>...</td>\n",
       "      <td>0.040881</td>\n",
       "      <td>0.040628</td>\n",
       "      <td>0.047745</td>\n",
       "      <td>0.042062</td>\n",
       "      <td>0.041655</td>\n",
       "      <td>0.041885</td>\n",
       "      <td>0.037275</td>\n",
       "      <td>0.044576</td>\n",
       "      <td>0.037070</td>\n",
       "      <td>0.028331</td>\n",
       "    </tr>\n",
       "    <tr>\n",
       "      <th>min</th>\n",
       "      <td>1.000000</td>\n",
       "      <td>-0.242679</td>\n",
       "      <td>-0.038476</td>\n",
       "      <td>-0.009747</td>\n",
       "      <td>-0.149475</td>\n",
       "      <td>-0.172050</td>\n",
       "      <td>-0.172290</td>\n",
       "      <td>-0.099803</td>\n",
       "      <td>-0.208459</td>\n",
       "      <td>0.074353</td>\n",
       "      <td>...</td>\n",
       "      <td>-0.080591</td>\n",
       "      <td>0.001783</td>\n",
       "      <td>-0.156417</td>\n",
       "      <td>-0.165180</td>\n",
       "      <td>-0.237033</td>\n",
       "      <td>-0.142511</td>\n",
       "      <td>-0.014813</td>\n",
       "      <td>-0.200636</td>\n",
       "      <td>-0.061938</td>\n",
       "      <td>-0.056826</td>\n",
       "    </tr>\n",
       "    <tr>\n",
       "      <th>25%</th>\n",
       "      <td>31.500000</td>\n",
       "      <td>-0.185064</td>\n",
       "      <td>0.056718</td>\n",
       "      <td>0.045038</td>\n",
       "      <td>-0.070938</td>\n",
       "      <td>-0.069855</td>\n",
       "      <td>-0.106660</td>\n",
       "      <td>0.005892</td>\n",
       "      <td>-0.139013</td>\n",
       "      <td>0.147295</td>\n",
       "      <td>...</td>\n",
       "      <td>-0.000925</td>\n",
       "      <td>0.058287</td>\n",
       "      <td>-0.074143</td>\n",
       "      <td>-0.086362</td>\n",
       "      <td>-0.153125</td>\n",
       "      <td>-0.049034</td>\n",
       "      <td>0.065787</td>\n",
       "      <td>-0.091746</td>\n",
       "      <td>-0.003708</td>\n",
       "      <td>0.013888</td>\n",
       "    </tr>\n",
       "    <tr>\n",
       "      <th>50%</th>\n",
       "      <td>62.000000</td>\n",
       "      <td>-0.159923</td>\n",
       "      <td>0.097806</td>\n",
       "      <td>0.071572</td>\n",
       "      <td>-0.042677</td>\n",
       "      <td>-0.040682</td>\n",
       "      <td>-0.077778</td>\n",
       "      <td>0.033414</td>\n",
       "      <td>-0.109840</td>\n",
       "      <td>0.168897</td>\n",
       "      <td>...</td>\n",
       "      <td>0.023494</td>\n",
       "      <td>0.086206</td>\n",
       "      <td>-0.045257</td>\n",
       "      <td>-0.057532</td>\n",
       "      <td>-0.125941</td>\n",
       "      <td>-0.017751</td>\n",
       "      <td>0.085361</td>\n",
       "      <td>-0.066152</td>\n",
       "      <td>0.029479</td>\n",
       "      <td>0.035502</td>\n",
       "    </tr>\n",
       "    <tr>\n",
       "      <th>75%</th>\n",
       "      <td>92.500000</td>\n",
       "      <td>-0.123469</td>\n",
       "      <td>0.129240</td>\n",
       "      <td>0.103062</td>\n",
       "      <td>0.003893</td>\n",
       "      <td>-0.020213</td>\n",
       "      <td>-0.046840</td>\n",
       "      <td>0.058900</td>\n",
       "      <td>-0.064138</td>\n",
       "      <td>0.193672</td>\n",
       "      <td>...</td>\n",
       "      <td>0.046364</td>\n",
       "      <td>0.121337</td>\n",
       "      <td>-0.006431</td>\n",
       "      <td>-0.029462</td>\n",
       "      <td>-0.097335</td>\n",
       "      <td>0.003610</td>\n",
       "      <td>0.108677</td>\n",
       "      <td>-0.037128</td>\n",
       "      <td>0.048893</td>\n",
       "      <td>0.053609</td>\n",
       "    </tr>\n",
       "    <tr>\n",
       "      <th>max</th>\n",
       "      <td>124.000000</td>\n",
       "      <td>-0.054156</td>\n",
       "      <td>0.208019</td>\n",
       "      <td>0.178643</td>\n",
       "      <td>0.066089</td>\n",
       "      <td>0.048678</td>\n",
       "      <td>0.059532</td>\n",
       "      <td>0.119882</td>\n",
       "      <td>0.048881</td>\n",
       "      <td>0.261558</td>\n",
       "      <td>...</td>\n",
       "      <td>0.143010</td>\n",
       "      <td>0.167401</td>\n",
       "      <td>0.088005</td>\n",
       "      <td>0.049966</td>\n",
       "      <td>-0.036952</td>\n",
       "      <td>0.087532</td>\n",
       "      <td>0.175817</td>\n",
       "      <td>0.029230</td>\n",
       "      <td>0.114733</td>\n",
       "      <td>0.106698</td>\n",
       "    </tr>\n",
       "  </tbody>\n",
       "</table>\n",
       "<p>8 rows × 129 columns</p>\n",
       "</div>"
      ],
      "text/plain": [
       "            Case#         fe1         fe2         fe3         fe4         fe5  \\\n",
       "count  123.000000  123.000000  123.000000  123.000000  123.000000  123.000000   \n",
       "mean    62.081301   -0.153911    0.093016    0.075728   -0.036742   -0.043479   \n",
       "std     35.781805    0.044845    0.051656    0.039565    0.048144    0.044359   \n",
       "min      1.000000   -0.242679   -0.038476   -0.009747   -0.149475   -0.172050   \n",
       "25%     31.500000   -0.185064    0.056718    0.045038   -0.070938   -0.069855   \n",
       "50%     62.000000   -0.159923    0.097806    0.071572   -0.042677   -0.040682   \n",
       "75%     92.500000   -0.123469    0.129240    0.103062    0.003893   -0.020213   \n",
       "max    124.000000   -0.054156    0.208019    0.178643    0.066089    0.048678   \n",
       "\n",
       "              fe6         fe7         fe8         fe9  ...       fe119  \\\n",
       "count  123.000000  123.000000  123.000000  123.000000  ...  123.000000   \n",
       "mean    -0.076555    0.028473   -0.101553    0.168380  ...    0.025066   \n",
       "std      0.044226    0.044705    0.054191    0.034994  ...    0.040881   \n",
       "min     -0.172290   -0.099803   -0.208459    0.074353  ...   -0.080591   \n",
       "25%     -0.106660    0.005892   -0.139013    0.147295  ...   -0.000925   \n",
       "50%     -0.077778    0.033414   -0.109840    0.168897  ...    0.023494   \n",
       "75%     -0.046840    0.058900   -0.064138    0.193672  ...    0.046364   \n",
       "max      0.059532    0.119882    0.048881    0.261558  ...    0.143010   \n",
       "\n",
       "            fe120       fe121       fe122       fe123       fe124       fe125  \\\n",
       "count  123.000000  123.000000  123.000000  123.000000  123.000000  123.000000   \n",
       "mean     0.090602   -0.039843   -0.058998   -0.126953   -0.022616    0.086011   \n",
       "std      0.040628    0.047745    0.042062    0.041655    0.041885    0.037275   \n",
       "min      0.001783   -0.156417   -0.165180   -0.237033   -0.142511   -0.014813   \n",
       "25%      0.058287   -0.074143   -0.086362   -0.153125   -0.049034    0.065787   \n",
       "50%      0.086206   -0.045257   -0.057532   -0.125941   -0.017751    0.085361   \n",
       "75%      0.121337   -0.006431   -0.029462   -0.097335    0.003610    0.108677   \n",
       "max      0.167401    0.088005    0.049966   -0.036952    0.087532    0.175817   \n",
       "\n",
       "            fe126       fe127       fe128  \n",
       "count  123.000000  123.000000  123.000000  \n",
       "mean    -0.068244    0.025991    0.033780  \n",
       "std      0.044576    0.037070    0.028331  \n",
       "min     -0.200636   -0.061938   -0.056826  \n",
       "25%     -0.091746   -0.003708    0.013888  \n",
       "50%     -0.066152    0.029479    0.035502  \n",
       "75%     -0.037128    0.048893    0.053609  \n",
       "max      0.029230    0.114733    0.106698  \n",
       "\n",
       "[8 rows x 129 columns]"
      ]
     },
     "execution_count": 5,
     "metadata": {},
     "output_type": "execute_result"
    }
   ],
   "source": [
    "df.describe()"
   ]
  },
  {
   "cell_type": "markdown",
   "metadata": {},
   "source": [
    "## Spliting dataset into train and test"
   ]
  },
  {
   "cell_type": "code",
   "execution_count": 6,
   "metadata": {
    "pycharm": {
     "is_executing": false
    }
   },
   "outputs": [
    {
     "name": "stdout",
     "output_type": "stream",
     "text": [
      "X_train:  (92, 128)\n",
      "y_train:  (92,)\n",
      "X_test:  (31, 128)\n",
      "y_test:  (31,)\n"
     ]
    }
   ],
   "source": [
    "from sklearn.model_selection import train_test_split\n",
    "#split input and output colums\n",
    "X = df.drop(axis=0, columns=['name', 'Case#'])\n",
    "y = df.name\n",
    "X_train, X_test, y_train, y_test = train_test_split(X, y, test_size=0.25, random_state=0)\n",
    "# X_test = tdf.drop(axis=0, columns=['name', 'Case#'])\n",
    "# y_test = tdf.name\n",
    "print(\"X_train: \", X_train.shape)\n",
    "print(\"y_train: \", y_train.shape)\n",
    "print(\"X_test: \", X_test.shape)\n",
    "print(\"y_test: \", y_test.shape)\n"
   ]
  },
  {
   "cell_type": "markdown",
   "metadata": {},
   "source": [
    "## Training model"
   ]
  },
  {
   "cell_type": "code",
   "execution_count": 7,
   "metadata": {
    "pycharm": {
     "is_executing": false
    }
   },
   "outputs": [],
   "source": [
    "# import matplotlib.pyplot as plt\n",
    "from sklearn.multiclass import OneVsRestClassifier\n",
    "from sklearn.svm import SVC #Support Vector Machine\n",
    "\n",
    "clf = OneVsRestClassifier(SVC(probability=True)).fit(X, y)"
   ]
  },
  {
   "cell_type": "markdown",
   "metadata": {},
   "source": [
    "## Saving model externally"
   ]
  },
  {
   "cell_type": "code",
   "execution_count": 8,
   "metadata": {},
   "outputs": [],
   "source": [
    "import pickle\n",
    "filepath = \"../models/classifier1.sav\"\n",
    "pickle.dump(clf, open(filepath, 'wb'))"
   ]
  },
  {
   "cell_type": "markdown",
   "metadata": {},
   "source": [
    "## Testing model"
   ]
  },
  {
   "cell_type": "code",
   "execution_count": 9,
   "metadata": {},
   "outputs": [
    {
     "name": "stdout",
     "output_type": "stream",
     "text": [
      "['Phoebe' 'Usher Raymond' 'Ben Wycliff Mugalu' 'Majo' 'Ann'\n",
      " 'Juliana Kanyomozi' 'Denzel Washington' 'Ann' 'Liz' 'Priscilla Walaga'\n",
      " 'Denzel Washington' 'Will Smith' 'Eric' 'Lupita Nyongo'\n",
      " 'Amandla Sternburg' 'Priscilla Walaga' 'Priscilla Walaga'\n",
      " 'Denzel Washington' 'Will Smith' 'Edwin Paul Suubi' 'Noreen'\n",
      " 'Usher Raymond' 'Kevin Hart' 'Ben Wycliff Mugalu' 'Taylor Russell'\n",
      " 'Amandla Sternburg' 'Ben Wycliff Mugalu' 'Noreen' 'Majo'\n",
      " 'Denzel Washington' 'Kevin Hart']\n"
     ]
    }
   ],
   "source": [
    "y_pred = clf.predict(X_test)\n",
    "print(y_pred)"
   ]
  },
  {
   "cell_type": "markdown",
   "metadata": {},
   "source": [
    "## Determining accuracy"
   ]
  },
  {
   "cell_type": "code",
   "execution_count": 10,
   "metadata": {
    "pycharm": {
     "is_executing": false
    }
   },
   "outputs": [
    {
     "name": "stdout",
     "output_type": "stream",
     "text": [
      "1.0\n"
     ]
    }
   ],
   "source": [
    "from sklearn.metrics import accuracy_score\n",
    "\n",
    "accuracy = accuracy_score(y_test, y_pred)\n",
    "print(accuracy)"
   ]
  },
  {
   "cell_type": "code",
   "execution_count": 11,
   "metadata": {
    "pycharm": {
     "is_executing": false
    }
   },
   "outputs": [
    {
     "name": "stdout",
     "output_type": "stream",
     "text": [
      "1.0\n",
      "['Phoebe' 'Usher Raymond' 'Ben Wycliff Mugalu' 'Majo' 'Ann'\n",
      " 'Juliana Kanyomozi' 'Denzel Washington' 'Ann' 'Liz' 'Priscilla Walaga'\n",
      " 'Denzel Washington' 'Will Smith' 'Eric' 'Lupita Nyongo'\n",
      " 'Amandla Sternburg' 'Priscilla Walaga' 'Priscilla Walaga'\n",
      " 'Denzel Washington' 'Will Smith' 'Edwin Paul Suubi' 'Noreen'\n",
      " 'Usher Raymond' 'Kevin Hart' 'Ben Wycliff Mugalu' 'Taylor Russell'\n",
      " 'Amandla Sternburg' 'Ben Wycliff Mugalu' 'Noreen' 'Majo'\n",
      " 'Denzel Washington' 'Kevin Hart'] ['Phoebe', 'Usher Raymond', 'Ben Wycliff Mugalu', 'Majo', 'Ann', 'Juliana Kanyomozi', 'Denzel Washington', 'Ann', 'Liz', 'Priscilla Walaga', 'Denzel Washington', 'Will Smith', 'Eric', 'Lupita Nyongo', 'Amandla Sternburg', 'Priscilla Walaga', 'Priscilla Walaga', 'Denzel Washington', 'Will Smith', 'Edwin Paul Suubi', 'Noreen', 'Usher Raymond', 'Kevin Hart', 'Ben Wycliff Mugalu', 'Taylor Russell', 'Amandla Sternburg', 'Ben Wycliff Mugalu', 'Noreen', 'Majo', 'Denzel Washington', 'Kevin Hart']\n"
     ]
    }
   ],
   "source": [
    "import numpy as np\n",
    "\n",
    "print(np.mean(y_pred == y_test))\n",
    "print(y_pred, [i for i in y_test])"
   ]
  },
  {
   "cell_type": "code",
   "execution_count": 12,
   "metadata": {
    "pycharm": {
     "is_executing": false
    }
   },
   "outputs": [
    {
     "name": "stdout",
     "output_type": "stream",
     "text": [
      "85                 Phoebe\n",
      "98          Usher Raymond\n",
      "10     Ben Wycliff Mugalu\n",
      "71                   Majo\n",
      "8                     Ann\n",
      "45      Juliana Kanyomozi\n",
      "22      Denzel Washington\n",
      "7                     Ann\n",
      "61                    Liz\n",
      "91       Priscilla Walaga\n",
      "114     Denzel Washington\n",
      "110            Will Smith\n",
      "33                   Eric\n",
      "66          Lupita Nyongo\n",
      "2       Amandla Sternburg\n",
      "90       Priscilla Walaga\n",
      "89       Priscilla Walaga\n",
      "24      Denzel Washington\n",
      "122            Will Smith\n",
      "30       Edwin Paul Suubi\n",
      "78                 Noreen\n",
      "100         Usher Raymond\n",
      "60             Kevin Hart\n",
      "16     Ben Wycliff Mugalu\n",
      "97         Taylor Russell\n",
      "113     Amandla Sternburg\n",
      "13     Ben Wycliff Mugalu\n",
      "76                 Noreen\n",
      "73                   Majo\n",
      "26      Denzel Washington\n",
      "56             Kevin Hart\n",
      "Name: name, dtype: object\n"
     ]
    }
   ],
   "source": [
    "print(y_test)"
   ]
  },
  {
   "cell_type": "code",
   "execution_count": 13,
   "metadata": {
    "pycharm": {
     "is_executing": false
    }
   },
   "outputs": [],
   "source": [
    "# print(df.name)"
   ]
  },
  {
   "cell_type": "code",
   "execution_count": 14,
   "metadata": {},
   "outputs": [],
   "source": [
    "# print(df.groupby(\"name\").mean())"
   ]
  },
  {
   "cell_type": "code",
   "execution_count": null,
   "metadata": {},
   "outputs": [],
   "source": []
  }
 ],
 "metadata": {
  "kernelspec": {
   "display_name": "Python 3",
   "language": "python",
   "name": "python3"
  },
  "language_info": {
   "codemirror_mode": {
    "name": "ipython",
    "version": 3
   },
   "file_extension": ".py",
   "mimetype": "text/x-python",
   "name": "python",
   "nbconvert_exporter": "python",
   "pygments_lexer": "ipython3",
   "version": "3.6.9"
  },
  "pycharm": {
   "stem_cell": {
    "cell_type": "raw",
    "metadata": {
     "collapsed": false
    },
    "source": []
   }
  }
 },
 "nbformat": 4,
 "nbformat_minor": 4
}
