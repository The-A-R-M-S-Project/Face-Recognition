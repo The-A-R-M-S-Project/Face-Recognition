{
 "cells": [
  {
   "cell_type": "code",
   "execution_count": 1,
   "metadata": {
    "pycharm": {
     "is_executing": false
    },
    "scrolled": true
   },
   "outputs": [
    {
     "data": {
      "text/plain": "   Case#               name       fe1       fe2       fe3       fe4       fe5  \\\n0      1  Amandla Sternburg -0.062336  0.052564  0.100087 -0.119492 -0.139727   \n1      2  Amandla Sternburg -0.062336  0.052564  0.100087 -0.119492 -0.139727   \n2      3  Amandla Sternburg -0.063223 -0.038476  0.101766 -0.079118 -0.164185   \n3      4  Amandla Sternburg -0.098610  0.056209  0.136003 -0.118633 -0.172050   \n4      5  Amandla Sternburg -0.054156  0.044665  0.134833 -0.108199 -0.160031   \n\n        fe6       fe7       fe8  ...     fe119     fe120     fe121     fe122  \\\n0 -0.101675 -0.077950 -0.115687  ...  0.077741  0.087120  0.007947 -0.013164   \n1 -0.101675 -0.077950 -0.115687  ...  0.077741  0.087120  0.007947 -0.013164   \n2 -0.092289 -0.065582 -0.067860  ...  0.094934  0.092719 -0.031205 -0.032641   \n3 -0.055944 -0.084016 -0.072944  ...  0.143010  0.093671 -0.071815 -0.059864   \n4 -0.043255 -0.099803 -0.050705  ...  0.128864  0.124600 -0.008052 -0.025404   \n\n      fe123     fe124     fe125     fe126     fe127     fe128  \n0 -0.114904 -0.004787  0.123941 -0.133650  0.034758  0.075893  \n1 -0.114904 -0.004787  0.123941 -0.133650  0.034758  0.075893  \n2 -0.135209  0.025838  0.150927 -0.089295  0.035543  0.064832  \n3 -0.094761 -0.037739  0.121683 -0.100972  0.065145  0.053635  \n4 -0.129545 -0.033177  0.140403 -0.112612  0.062427  0.071699  \n\n[5 rows x 130 columns]",
      "text/html": "<div>\n<style scoped>\n    .dataframe tbody tr th:only-of-type {\n        vertical-align: middle;\n    }\n\n    .dataframe tbody tr th {\n        vertical-align: top;\n    }\n\n    .dataframe thead th {\n        text-align: right;\n    }\n</style>\n<table border=\"1\" class=\"dataframe\">\n  <thead>\n    <tr style=\"text-align: right;\">\n      <th></th>\n      <th>Case#</th>\n      <th>name</th>\n      <th>fe1</th>\n      <th>fe2</th>\n      <th>fe3</th>\n      <th>fe4</th>\n      <th>fe5</th>\n      <th>fe6</th>\n      <th>fe7</th>\n      <th>fe8</th>\n      <th>...</th>\n      <th>fe119</th>\n      <th>fe120</th>\n      <th>fe121</th>\n      <th>fe122</th>\n      <th>fe123</th>\n      <th>fe124</th>\n      <th>fe125</th>\n      <th>fe126</th>\n      <th>fe127</th>\n      <th>fe128</th>\n    </tr>\n  </thead>\n  <tbody>\n    <tr>\n      <th>0</th>\n      <td>1</td>\n      <td>Amandla Sternburg</td>\n      <td>-0.062336</td>\n      <td>0.052564</td>\n      <td>0.100087</td>\n      <td>-0.119492</td>\n      <td>-0.139727</td>\n      <td>-0.101675</td>\n      <td>-0.077950</td>\n      <td>-0.115687</td>\n      <td>...</td>\n      <td>0.077741</td>\n      <td>0.087120</td>\n      <td>0.007947</td>\n      <td>-0.013164</td>\n      <td>-0.114904</td>\n      <td>-0.004787</td>\n      <td>0.123941</td>\n      <td>-0.133650</td>\n      <td>0.034758</td>\n      <td>0.075893</td>\n    </tr>\n    <tr>\n      <th>1</th>\n      <td>2</td>\n      <td>Amandla Sternburg</td>\n      <td>-0.062336</td>\n      <td>0.052564</td>\n      <td>0.100087</td>\n      <td>-0.119492</td>\n      <td>-0.139727</td>\n      <td>-0.101675</td>\n      <td>-0.077950</td>\n      <td>-0.115687</td>\n      <td>...</td>\n      <td>0.077741</td>\n      <td>0.087120</td>\n      <td>0.007947</td>\n      <td>-0.013164</td>\n      <td>-0.114904</td>\n      <td>-0.004787</td>\n      <td>0.123941</td>\n      <td>-0.133650</td>\n      <td>0.034758</td>\n      <td>0.075893</td>\n    </tr>\n    <tr>\n      <th>2</th>\n      <td>3</td>\n      <td>Amandla Sternburg</td>\n      <td>-0.063223</td>\n      <td>-0.038476</td>\n      <td>0.101766</td>\n      <td>-0.079118</td>\n      <td>-0.164185</td>\n      <td>-0.092289</td>\n      <td>-0.065582</td>\n      <td>-0.067860</td>\n      <td>...</td>\n      <td>0.094934</td>\n      <td>0.092719</td>\n      <td>-0.031205</td>\n      <td>-0.032641</td>\n      <td>-0.135209</td>\n      <td>0.025838</td>\n      <td>0.150927</td>\n      <td>-0.089295</td>\n      <td>0.035543</td>\n      <td>0.064832</td>\n    </tr>\n    <tr>\n      <th>3</th>\n      <td>4</td>\n      <td>Amandla Sternburg</td>\n      <td>-0.098610</td>\n      <td>0.056209</td>\n      <td>0.136003</td>\n      <td>-0.118633</td>\n      <td>-0.172050</td>\n      <td>-0.055944</td>\n      <td>-0.084016</td>\n      <td>-0.072944</td>\n      <td>...</td>\n      <td>0.143010</td>\n      <td>0.093671</td>\n      <td>-0.071815</td>\n      <td>-0.059864</td>\n      <td>-0.094761</td>\n      <td>-0.037739</td>\n      <td>0.121683</td>\n      <td>-0.100972</td>\n      <td>0.065145</td>\n      <td>0.053635</td>\n    </tr>\n    <tr>\n      <th>4</th>\n      <td>5</td>\n      <td>Amandla Sternburg</td>\n      <td>-0.054156</td>\n      <td>0.044665</td>\n      <td>0.134833</td>\n      <td>-0.108199</td>\n      <td>-0.160031</td>\n      <td>-0.043255</td>\n      <td>-0.099803</td>\n      <td>-0.050705</td>\n      <td>...</td>\n      <td>0.128864</td>\n      <td>0.124600</td>\n      <td>-0.008052</td>\n      <td>-0.025404</td>\n      <td>-0.129545</td>\n      <td>-0.033177</td>\n      <td>0.140403</td>\n      <td>-0.112612</td>\n      <td>0.062427</td>\n      <td>0.071699</td>\n    </tr>\n  </tbody>\n</table>\n<p>5 rows × 130 columns</p>\n</div>"
     },
     "metadata": {},
     "output_type": "execute_result",
     "execution_count": 1
    }
   ],
   "source": [
    "import pandas as pd\n",
    "\n",
    "# read dataset\n",
    "df = pd.read_csv('../data/train-face-encodings.csv')\n",
    "tdf = pd.read_csv('../data/test-face-encodings.csv')\n",
    "df.head()"
   ]
  },
  {
   "cell_type": "code",
   "execution_count": 2,
   "metadata": {
    "pycharm": {
     "is_executing": false
    }
   },
   "outputs": [
    {
     "name": "stdout",
     "text": [
      "(61, 130)\n",
      "10\n"
     ],
     "output_type": "stream"
    },
    {
     "data": {
      "text/plain": "           Case#        fe1        fe2        fe3        fe4        fe5  \\\ncount  61.000000  61.000000  61.000000  61.000000  61.000000  61.000000   \nmean   31.000000  -0.145820   0.111562   0.077902  -0.037469  -0.046888   \nstd    17.752934   0.048697   0.048349   0.039678   0.050379   0.049786   \nmin     1.000000  -0.242679  -0.038476   0.009014  -0.149475  -0.172050   \n25%    16.000000  -0.174213   0.073484   0.045440  -0.071133  -0.075145   \n50%    31.000000  -0.142383   0.119424   0.070937  -0.049372  -0.039087   \n75%    46.000000  -0.115865   0.151437   0.101766   0.005235  -0.019440   \nmax    61.000000  -0.054156   0.190391   0.178643   0.060035   0.033361   \n\n             fe6        fe7        fe8        fe9  ...      fe119      fe120  \\\ncount  61.000000  61.000000  61.000000  61.000000  ...  61.000000  61.000000   \nmean   -0.062969   0.016805  -0.093653   0.173793  ...   0.033942   0.089248   \nstd     0.045028   0.051104   0.059283   0.032258  ...   0.042740   0.037927   \nmin    -0.172290  -0.099803  -0.200209   0.102416  ...  -0.080591   0.007707   \n25%    -0.092289  -0.015134  -0.136570   0.150915  ...   0.007064   0.063122   \n50%    -0.064069   0.019831  -0.109724   0.171832  ...   0.026097   0.085717   \n75%    -0.028969   0.053026  -0.052999   0.197505  ...   0.067617   0.119019   \nmax     0.059532   0.119882   0.048881   0.254512  ...   0.143010   0.165418   \n\n           fe121      fe122      fe123      fe124      fe125      fe126  \\\ncount  61.000000  61.000000  61.000000  61.000000  61.000000  61.000000   \nmean   -0.025581  -0.046376  -0.117847  -0.021716   0.082761  -0.087033   \nstd     0.048966   0.038481   0.040463   0.044003   0.041159   0.040489   \nmin    -0.109943  -0.165180  -0.237033  -0.142511  -0.014813  -0.200636   \n25%    -0.057693  -0.070477  -0.135812  -0.050814   0.059569  -0.100972   \n50%    -0.033567  -0.040771  -0.114904  -0.013443   0.085361  -0.085871   \n75%     0.007947  -0.021388  -0.094761   0.008249   0.110647  -0.060607   \nmax     0.088005   0.049966  -0.036952   0.079573   0.152330  -0.010513   \n\n           fe127      fe128  \ncount  61.000000  61.000000  \nmean    0.029483   0.031020  \nstd     0.039401   0.029547  \nmin    -0.052164  -0.056826  \n25%    -0.002689   0.012554  \n50%     0.035543   0.034552  \n75%     0.055439   0.053635  \nmax     0.114733   0.081077  \n\n[8 rows x 129 columns]",
      "text/html": "<div>\n<style scoped>\n    .dataframe tbody tr th:only-of-type {\n        vertical-align: middle;\n    }\n\n    .dataframe tbody tr th {\n        vertical-align: top;\n    }\n\n    .dataframe thead th {\n        text-align: right;\n    }\n</style>\n<table border=\"1\" class=\"dataframe\">\n  <thead>\n    <tr style=\"text-align: right;\">\n      <th></th>\n      <th>Case#</th>\n      <th>fe1</th>\n      <th>fe2</th>\n      <th>fe3</th>\n      <th>fe4</th>\n      <th>fe5</th>\n      <th>fe6</th>\n      <th>fe7</th>\n      <th>fe8</th>\n      <th>fe9</th>\n      <th>...</th>\n      <th>fe119</th>\n      <th>fe120</th>\n      <th>fe121</th>\n      <th>fe122</th>\n      <th>fe123</th>\n      <th>fe124</th>\n      <th>fe125</th>\n      <th>fe126</th>\n      <th>fe127</th>\n      <th>fe128</th>\n    </tr>\n  </thead>\n  <tbody>\n    <tr>\n      <th>count</th>\n      <td>61.000000</td>\n      <td>61.000000</td>\n      <td>61.000000</td>\n      <td>61.000000</td>\n      <td>61.000000</td>\n      <td>61.000000</td>\n      <td>61.000000</td>\n      <td>61.000000</td>\n      <td>61.000000</td>\n      <td>61.000000</td>\n      <td>...</td>\n      <td>61.000000</td>\n      <td>61.000000</td>\n      <td>61.000000</td>\n      <td>61.000000</td>\n      <td>61.000000</td>\n      <td>61.000000</td>\n      <td>61.000000</td>\n      <td>61.000000</td>\n      <td>61.000000</td>\n      <td>61.000000</td>\n    </tr>\n    <tr>\n      <th>mean</th>\n      <td>31.000000</td>\n      <td>-0.145820</td>\n      <td>0.111562</td>\n      <td>0.077902</td>\n      <td>-0.037469</td>\n      <td>-0.046888</td>\n      <td>-0.062969</td>\n      <td>0.016805</td>\n      <td>-0.093653</td>\n      <td>0.173793</td>\n      <td>...</td>\n      <td>0.033942</td>\n      <td>0.089248</td>\n      <td>-0.025581</td>\n      <td>-0.046376</td>\n      <td>-0.117847</td>\n      <td>-0.021716</td>\n      <td>0.082761</td>\n      <td>-0.087033</td>\n      <td>0.029483</td>\n      <td>0.031020</td>\n    </tr>\n    <tr>\n      <th>std</th>\n      <td>17.752934</td>\n      <td>0.048697</td>\n      <td>0.048349</td>\n      <td>0.039678</td>\n      <td>0.050379</td>\n      <td>0.049786</td>\n      <td>0.045028</td>\n      <td>0.051104</td>\n      <td>0.059283</td>\n      <td>0.032258</td>\n      <td>...</td>\n      <td>0.042740</td>\n      <td>0.037927</td>\n      <td>0.048966</td>\n      <td>0.038481</td>\n      <td>0.040463</td>\n      <td>0.044003</td>\n      <td>0.041159</td>\n      <td>0.040489</td>\n      <td>0.039401</td>\n      <td>0.029547</td>\n    </tr>\n    <tr>\n      <th>min</th>\n      <td>1.000000</td>\n      <td>-0.242679</td>\n      <td>-0.038476</td>\n      <td>0.009014</td>\n      <td>-0.149475</td>\n      <td>-0.172050</td>\n      <td>-0.172290</td>\n      <td>-0.099803</td>\n      <td>-0.200209</td>\n      <td>0.102416</td>\n      <td>...</td>\n      <td>-0.080591</td>\n      <td>0.007707</td>\n      <td>-0.109943</td>\n      <td>-0.165180</td>\n      <td>-0.237033</td>\n      <td>-0.142511</td>\n      <td>-0.014813</td>\n      <td>-0.200636</td>\n      <td>-0.052164</td>\n      <td>-0.056826</td>\n    </tr>\n    <tr>\n      <th>25%</th>\n      <td>16.000000</td>\n      <td>-0.174213</td>\n      <td>0.073484</td>\n      <td>0.045440</td>\n      <td>-0.071133</td>\n      <td>-0.075145</td>\n      <td>-0.092289</td>\n      <td>-0.015134</td>\n      <td>-0.136570</td>\n      <td>0.150915</td>\n      <td>...</td>\n      <td>0.007064</td>\n      <td>0.063122</td>\n      <td>-0.057693</td>\n      <td>-0.070477</td>\n      <td>-0.135812</td>\n      <td>-0.050814</td>\n      <td>0.059569</td>\n      <td>-0.100972</td>\n      <td>-0.002689</td>\n      <td>0.012554</td>\n    </tr>\n    <tr>\n      <th>50%</th>\n      <td>31.000000</td>\n      <td>-0.142383</td>\n      <td>0.119424</td>\n      <td>0.070937</td>\n      <td>-0.049372</td>\n      <td>-0.039087</td>\n      <td>-0.064069</td>\n      <td>0.019831</td>\n      <td>-0.109724</td>\n      <td>0.171832</td>\n      <td>...</td>\n      <td>0.026097</td>\n      <td>0.085717</td>\n      <td>-0.033567</td>\n      <td>-0.040771</td>\n      <td>-0.114904</td>\n      <td>-0.013443</td>\n      <td>0.085361</td>\n      <td>-0.085871</td>\n      <td>0.035543</td>\n      <td>0.034552</td>\n    </tr>\n    <tr>\n      <th>75%</th>\n      <td>46.000000</td>\n      <td>-0.115865</td>\n      <td>0.151437</td>\n      <td>0.101766</td>\n      <td>0.005235</td>\n      <td>-0.019440</td>\n      <td>-0.028969</td>\n      <td>0.053026</td>\n      <td>-0.052999</td>\n      <td>0.197505</td>\n      <td>...</td>\n      <td>0.067617</td>\n      <td>0.119019</td>\n      <td>0.007947</td>\n      <td>-0.021388</td>\n      <td>-0.094761</td>\n      <td>0.008249</td>\n      <td>0.110647</td>\n      <td>-0.060607</td>\n      <td>0.055439</td>\n      <td>0.053635</td>\n    </tr>\n    <tr>\n      <th>max</th>\n      <td>61.000000</td>\n      <td>-0.054156</td>\n      <td>0.190391</td>\n      <td>0.178643</td>\n      <td>0.060035</td>\n      <td>0.033361</td>\n      <td>0.059532</td>\n      <td>0.119882</td>\n      <td>0.048881</td>\n      <td>0.254512</td>\n      <td>...</td>\n      <td>0.143010</td>\n      <td>0.165418</td>\n      <td>0.088005</td>\n      <td>0.049966</td>\n      <td>-0.036952</td>\n      <td>0.079573</td>\n      <td>0.152330</td>\n      <td>-0.010513</td>\n      <td>0.114733</td>\n      <td>0.081077</td>\n    </tr>\n  </tbody>\n</table>\n<p>8 rows × 129 columns</p>\n</div>"
     },
     "metadata": {},
     "output_type": "execute_result",
     "execution_count": 2
    }
   ],
   "source": [
    "print(df.shape)\n",
    "\n",
    "no_classes = len(df.name.unique())\n",
    "print(no_classes)\n",
    "\n",
    "df.describe()"
   ]
  },
  {
   "cell_type": "code",
   "execution_count": 3,
   "metadata": {
    "pycharm": {
     "is_executing": false
    }
   },
   "outputs": [
    {
     "name": "stdout",
     "text": [
      "(61, 128)\n",
      "(61,)\n"
     ],
     "output_type": "stream"
    }
   ],
   "source": [
    "#split input and output data\n",
    "X = df.drop(axis=0, columns=['name', 'Case#'])\n",
    "y = df.name\n",
    "X_test = tdf.drop(axis=0, columns=['name', 'Case#'])\n",
    "print(X.shape)\n",
    "print(y.shape)\n"
   ]
  },
  {
   "cell_type": "code",
   "execution_count": 4,
   "metadata": {
    "pycharm": {
     "is_executing": false
    }
   },
   "outputs": [
    {
     "data": {
      "text/plain": "array(['Amandla Sternburg', 'Denzel Washington', 'Jason Derulo',\n       'Juliana Kanyomozi', 'Kelly Roland', 'Kevin Hart', 'Lupita Nyongo',\n       'Taylor Russell', 'Usher Raymond', 'Will Smith'], dtype='<U17')"
     },
     "metadata": {},
     "output_type": "execute_result",
     "execution_count": 4
    }
   ],
   "source": [
    "import matplotlib.pyplot as plt\n",
    "import numpy as np\n",
    "from sklearn.multiclass import OneVsRestClassifier\n",
    "from sklearn.svm import SVC\n",
    "clf = OneVsRestClassifier(SVC()).fit(X, y)\n",
    "clf.predict(X_test)"
   ]
  },
  {
   "cell_type": "code",
   "execution_count": 4,
   "metadata": {
    "pycharm": {
     "is_executing": false
    }
   },
   "outputs": [],
   "source": []
  }
 ],
 "metadata": {
  "kernelspec": {
   "display_name": "Python 3",
   "language": "python",
   "name": "python3"
  },
  "language_info": {
   "codemirror_mode": {
    "name": "ipython",
    "version": 3
   },
   "file_extension": ".py",
   "mimetype": "text/x-python",
   "name": "python",
   "nbconvert_exporter": "python",
   "pygments_lexer": "ipython3",
   "version": "3.6.5"
  },
  "pycharm": {
   "stem_cell": {
    "cell_type": "raw",
    "metadata": {
     "collapsed": false
    },
    "source": []
   }
  }
 },
 "nbformat": 4,
 "nbformat_minor": 4
}